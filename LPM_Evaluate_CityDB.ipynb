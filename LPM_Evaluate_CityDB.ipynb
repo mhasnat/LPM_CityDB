{
 "cells": [
  {
   "cell_type": "code",
   "execution_count": 1,
   "metadata": {},
   "outputs": [],
   "source": [
    "from tqdm import tqdm\n",
    "import cv2, os\n",
    "import numpy as np\n",
    "from sklearn.metrics.pairwise import pairwise_distances\n",
    "from utility_evaluation import *"
   ]
  },
  {
   "cell_type": "markdown",
   "metadata": {},
   "source": [
    "## Evaluate"
   ]
  },
  {
   "cell_type": "markdown",
   "metadata": {},
   "source": [
    "## Precision - Recall - F-measure"
   ]
  },
  {
   "cell_type": "code",
   "execution_count": 2,
   "metadata": {},
   "outputs": [],
   "source": [
    "# Load pre-computed information from npz file\n",
    "all_files = np.load('CityDB_features_VGGS.npz')['all_files']\n",
    "all_features = np.load('CityDB_features_VGGS.npz')['all_features']"
   ]
  },
  {
   "cell_type": "code",
   "execution_count": 3,
   "metadata": {},
   "outputs": [
    {
     "name": "stdout",
     "output_type": "stream",
     "text": [
      "None Indices: : 77\n"
     ]
    }
   ],
   "source": [
    "lp_text = np.asarray([all_files[jj].split('_')[1].split('.')[0] for jj in range(len(all_files))])\n",
    "\n",
    "## Get NONE Index\n",
    "nonIndx = np.asarray([jj for jj in range(len(all_files)) if all_files[jj].split('_')[1].split('.')[0] == 'NONE'])\n",
    "print('None Indices: : ' + str(len(nonIndx)))\n",
    "\n",
    "## Get valid file names and corresponding LP texts\n",
    "file_names = np.delete(all_files, nonIndx)\n",
    "all_features = np.delete(all_features, nonIndx, axis=0)\n",
    "lp_text = np.delete(lp_text, nonIndx)\n",
    "\n",
    "## get Pairwise distance array\n",
    "pdistArr = pairwise_distances(all_features, metric='cosine')  # for LP\n",
    "maxDist = np.max(pdistArr)\n",
    "np.fill_diagonal(pdistArr, 50)"
   ]
  },
  {
   "cell_type": "code",
   "execution_count": 4,
   "metadata": {},
   "outputs": [],
   "source": [
    "## Precision and Recall Measurements related evaluation\n",
    "tPcList, fPcList, fNcList, gtcList, thVal_list = get_counts_prf_measures(pdistArr, \n",
    "                                                        lp_text, verbose=False)"
   ]
  },
  {
   "cell_type": "code",
   "execution_count": 6,
   "metadata": {},
   "outputs": [
    {
     "name": "stdout",
     "output_type": "stream",
     "text": [
      "Threshold Value: 0.37\n",
      "Precision: 0.9220967\n",
      "Recall: 0.76796913\n",
      "F-Measure: 0.838005\n"
     ]
    }
   ],
   "source": [
    "## Select best result based on best f-score\n",
    "thVal_final, pr_final, recl_final, fm_final = analyze_precision_recall_list(tPcList, fPcList, \n",
    "                                                               fNcList, gtcList, thVal_list, verbose=False)\n",
    "#print((thVal_final, pr_final, recl_final, fm_final))\n",
    "print('Threshold Value: '+ str(thVal_final))\n",
    "print('Precision: '+ str(pr_final))\n",
    "print('Recall: '+ str(recl_final))\n",
    "print('F-Measure: '+ str(fm_final))"
   ]
  },
  {
   "cell_type": "markdown",
   "metadata": {},
   "source": [
    "## AR Plot"
   ]
  },
  {
   "cell_type": "code",
   "execution_count": 7,
   "metadata": {},
   "outputs": [],
   "source": [
    "from collections import Counter\n",
    "import matplotlib.pyplot as plt"
   ]
  },
  {
   "cell_type": "code",
   "execution_count": 8,
   "metadata": {},
   "outputs": [
    {
     "name": "stdout",
     "output_type": "stream",
     "text": [
      "Total Number of LPs: 2099\n",
      "Number of unique LPs: 862\n",
      "Number of single LPs: 409\n"
     ]
    }
   ],
   "source": [
    "## Statistics\n",
    "unq_lps = np.array(list(Counter(lp_text).keys())) # equals to list(set(words))\n",
    "num_samp_lp = np.array(list(Counter(lp_text).values())) # counts the elements' frequency\n",
    "\n",
    "print('Total Number of LPs: ' + str(len(lp_text)))\n",
    "print('Number of unique LPs: ' + str(len(unq_lps)))\n",
    "print('Number of single LPs: ' + str(len(np.where(num_samp_lp == 1)[0])))    "
   ]
  },
  {
   "cell_type": "markdown",
   "metadata": {},
   "source": [
    "## Generally, we should exclude the single LP cases from this evaluation"
   ]
  },
  {
   "cell_type": "code",
   "execution_count": 9,
   "metadata": {},
   "outputs": [
    {
     "name": "stdout",
     "output_type": "stream",
     "text": [
      "1690\n",
      "(1690, 1690)\n"
     ]
    },
    {
     "data": {
      "image/png": "[encoded data removed]",
      "text/plain": [
       "<Figure size 432x288 with 1 Axes>"
      ]
     },
     "metadata": {
      "needs_background": "light"
     },
     "output_type": "display_data"
    }
   ],
   "source": [
    "# First remove the LPs with single appearance. Note: this evaluation assumes \n",
    "# that all LP must have at least one pair\n",
    "single_lp_indices = np.where(num_samp_lp == 1)[0]\n",
    "single_lp_list = unq_lps[single_lp_indices].tolist()\n",
    "\n",
    "keep_indices = [jj for jj in range(len(lp_text)) if lp_text[jj] not in single_lp_list]\n",
    "print(len(keep_indices))\n",
    "\n",
    "pdistArr_non_single = pdistArr[keep_indices, :]\n",
    "pdistArr_non_single = pdistArr_non_single[:, keep_indices]\n",
    "print(pdistArr_non_single.shape)\n",
    "\n",
    "lp_text_non_single = lp_text[keep_indices]\n",
    "\n",
    "## Get the accuracy and reject-rates and plot them\n",
    "#thVal_list = np.arange(0.1, 0.3, 0.02)\n",
    "accuracy, rejRate = get_accuracy_reject_characteristics(pdistArr_non_single, \n",
    "                                                        lp_text_non_single, \n",
    "                                                        thVal_list=None)\n",
    "\n",
    "plt.plot(rejRate, accuracy, '-')\n",
    "plt.xlabel('Reject Rate', fontsize=18)\n",
    "plt.ylabel('Accuracy', fontsize=18)\n",
    "#plt.savefig(save_file_name.split('.')[0]+'.png', dpi=250)\n",
    "plt.show()"
   ]
  },
  {
   "cell_type": "markdown",
   "metadata": {},
   "source": [
    "## Like in the paper - where we did not exclude the single LP cases to respect the dataset"
   ]
  },
  {
   "cell_type": "code",
   "execution_count": 10,
   "metadata": {},
   "outputs": [
    {
     "data": {
      "image/png": "[encoded data removed]",
      "text/plain": [
       "<Figure size 432x288 with 1 Axes>"
      ]
     },
     "metadata": {
      "needs_background": "light"
     },
     "output_type": "display_data"
    }
   ],
   "source": [
    "## Get the accuracy and reject-rates and plot them\n",
    "#thVal_list = np.arange(0.1, 0.3, 0.02)\n",
    "accuracy, rejRate = get_accuracy_reject_characteristics(pdistArr, \n",
    "                                                        lp_text, \n",
    "                                                        thVal_list=None)\n",
    "\n",
    "plt.plot(rejRate, accuracy, '-')\n",
    "plt.xlabel('Reject Rate', fontsize=18)\n",
    "plt.ylabel('Accuracy', fontsize=18)\n",
    "#plt.savefig(save_file_name.split('.')[0]+'.png', dpi=250)\n",
    "plt.show()"
   ]
  }
 ],
 "metadata": {
  "kernelspec": {
   "display_name": "Python 3",
   "language": "python",
   "name": "python3"
  },
  "language_info": {
   "codemirror_mode": {
    "name": "ipython",
    "version": 3
   },
   "file_extension": ".py",
   "mimetype": "text/x-python",
   "name": "python",
   "nbconvert_exporter": "python",
   "pygments_lexer": "ipython3",
   "version": "3.6.9"
  }
 },
 "nbformat": 4,
 "nbformat_minor": 2
}
